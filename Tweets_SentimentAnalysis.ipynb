{
 "cells": [
  {
   "cell_type": "markdown",
   "id": "7aa2d265",
   "metadata": {
    "id": "7aa2d265"
   },
   "source": [
    "# TWEET SENTIMENT ANALYSIS"
   ]
  },
  {
   "cell_type": "markdown",
   "id": "509a61a6",
   "metadata": {
    "id": "509a61a6"
   },
   "source": [
    "### Importing Libraries"
   ]
  },
  {
   "cell_type": "code",
   "execution_count": 143,
   "id": "936bacdd",
   "metadata": {
    "id": "936bacdd"
   },
   "outputs": [],
   "source": [
    "import numpy as np\n",
    "import pandas as pd\n",
    "import matplotlib.pyplot as plt\n",
    "import seaborn as sns\n",
    "import warnings\n",
    "warnings.filterwarnings(\"ignore\")"
   ]
  },
  {
   "cell_type": "markdown",
   "id": "9245f21c",
   "metadata": {
    "id": "9245f21c"
   },
   "source": [
    "### Reading csv"
   ]
  },
  {
   "cell_type": "code",
   "execution_count": 97,
   "id": "22625dfb",
   "metadata": {
    "colab": {
     "base_uri": "https://localhost:8080/",
     "height": 825
    },
    "id": "22625dfb",
    "outputId": "07e4d4e4-68d2-4377-9321-d9675457883b"
   },
   "outputs": [],
   "source": [
    "Final_df=pd.read_csv(\"tweets-engagement-metrics.csv\")"
   ]
  },
  {
   "cell_type": "code",
   "execution_count": 98,
   "id": "076dd309",
   "metadata": {
    "colab": {
     "base_uri": "https://localhost:8080/",
     "height": 417
    },
    "id": "076dd309",
    "outputId": "822361e6-c4e2-429a-b8f5-3dadf48c6671"
   },
   "outputs": [
    {
     "data": {
      "text/html": [
       "<div>\n",
       "<style scoped>\n",
       "    .dataframe tbody tr th:only-of-type {\n",
       "        vertical-align: middle;\n",
       "    }\n",
       "\n",
       "    .dataframe tbody tr th {\n",
       "        vertical-align: top;\n",
       "    }\n",
       "\n",
       "    .dataframe thead th {\n",
       "        text-align: right;\n",
       "    }\n",
       "</style>\n",
       "<table border=\"1\" class=\"dataframe\">\n",
       "  <thead>\n",
       "    <tr style=\"text-align: right;\">\n",
       "      <th></th>\n",
       "      <th>Unnamed: 0</th>\n",
       "      <th>UserID</th>\n",
       "      <th>Gender</th>\n",
       "      <th>LocationID</th>\n",
       "      <th>City</th>\n",
       "      <th>State</th>\n",
       "      <th>StateCode</th>\n",
       "      <th>Country</th>\n",
       "      <th>TweetID</th>\n",
       "      <th>Hour</th>\n",
       "      <th>Day</th>\n",
       "      <th>Weekday</th>\n",
       "      <th>IsReshare</th>\n",
       "      <th>Reach</th>\n",
       "      <th>RetweetCount</th>\n",
       "      <th>Likes</th>\n",
       "      <th>Klout</th>\n",
       "      <th>Sentiment</th>\n",
       "      <th>Lang</th>\n",
       "      <th>text</th>\n",
       "    </tr>\n",
       "  </thead>\n",
       "  <tbody>\n",
       "    <tr>\n",
       "      <th>0</th>\n",
       "      <td>0</td>\n",
       "      <td>tw-1267804344</td>\n",
       "      <td>Unknown</td>\n",
       "      <td>1</td>\n",
       "      <td>Elbasan</td>\n",
       "      <td>Elbasan</td>\n",
       "      <td>AL</td>\n",
       "      <td>Albania</td>\n",
       "      <td>tw-698155297102295041</td>\n",
       "      <td>7</td>\n",
       "      <td>12</td>\n",
       "      <td>Friday</td>\n",
       "      <td>True</td>\n",
       "      <td>339</td>\n",
       "      <td>127</td>\n",
       "      <td>0</td>\n",
       "      <td>44</td>\n",
       "      <td>0.0</td>\n",
       "      <td>en</td>\n",
       "      <td>\"RT @AdrianRusso82: Our Innovation Lab is offi...</td>\n",
       "    </tr>\n",
       "    <tr>\n",
       "      <th>1</th>\n",
       "      <td>1</td>\n",
       "      <td>tw-4762500137</td>\n",
       "      <td>Female</td>\n",
       "      <td>10</td>\n",
       "      <td>Luanda</td>\n",
       "      <td>Luanda</td>\n",
       "      <td>AO</td>\n",
       "      <td>Angola</td>\n",
       "      <td>tw-690506796876824576</td>\n",
       "      <td>5</td>\n",
       "      <td>22</td>\n",
       "      <td>Friday</td>\n",
       "      <td>True</td>\n",
       "      <td>63</td>\n",
       "      <td>26</td>\n",
       "      <td>0</td>\n",
       "      <td>16</td>\n",
       "      <td>-2.0</td>\n",
       "      <td>en</td>\n",
       "      <td>RT @imoyse: Microsoft slashes Azure prices up ...</td>\n",
       "    </tr>\n",
       "    <tr>\n",
       "      <th>2</th>\n",
       "      <td>2</td>\n",
       "      <td>tw-4762500137</td>\n",
       "      <td>Female</td>\n",
       "      <td>10</td>\n",
       "      <td>Luanda</td>\n",
       "      <td>Luanda</td>\n",
       "      <td>AO</td>\n",
       "      <td>Angola</td>\n",
       "      <td>tw-698315842434555904</td>\n",
       "      <td>18</td>\n",
       "      <td>12</td>\n",
       "      <td>Friday</td>\n",
       "      <td>True</td>\n",
       "      <td>107</td>\n",
       "      <td>25</td>\n",
       "      <td>0</td>\n",
       "      <td>31</td>\n",
       "      <td>-2.0</td>\n",
       "      <td>en</td>\n",
       "      <td>RT @imoyse: House of clouds: Netflix abandons ...</td>\n",
       "    </tr>\n",
       "    <tr>\n",
       "      <th>3</th>\n",
       "      <td>3</td>\n",
       "      <td>tw-928769635</td>\n",
       "      <td>Female</td>\n",
       "      <td>13</td>\n",
       "      <td>NaN</td>\n",
       "      <td>NaN</td>\n",
       "      <td>NaN</td>\n",
       "      <td>Argentina</td>\n",
       "      <td>tw-685663098636791808</td>\n",
       "      <td>20</td>\n",
       "      <td>8</td>\n",
       "      <td>Friday</td>\n",
       "      <td>False</td>\n",
       "      <td>976</td>\n",
       "      <td>0</td>\n",
       "      <td>0</td>\n",
       "      <td>40</td>\n",
       "      <td>3.0</td>\n",
       "      <td>en</td>\n",
       "      <td>@JazzyBieberNews So beautiful!! Aws @justinbie...</td>\n",
       "    </tr>\n",
       "    <tr>\n",
       "      <th>4</th>\n",
       "      <td>4</td>\n",
       "      <td>tw-457193677</td>\n",
       "      <td>Unknown</td>\n",
       "      <td>13</td>\n",
       "      <td>NaN</td>\n",
       "      <td>NaN</td>\n",
       "      <td>NaN</td>\n",
       "      <td>Argentina</td>\n",
       "      <td>tw-703293482832683008</td>\n",
       "      <td>12</td>\n",
       "      <td>26</td>\n",
       "      <td>Friday</td>\n",
       "      <td>False</td>\n",
       "      <td>6444</td>\n",
       "      <td>1</td>\n",
       "      <td>0</td>\n",
       "      <td>55</td>\n",
       "      <td>0.0</td>\n",
       "      <td>es</td>\n",
       "      <td>@justinxfaso aws mil gracias eu</td>\n",
       "    </tr>\n",
       "  </tbody>\n",
       "</table>\n",
       "</div>"
      ],
      "text/plain": [
       "   Unnamed: 0         UserID   Gender  LocationID     City    State StateCode  \\\n",
       "0           0  tw-1267804344  Unknown           1  Elbasan  Elbasan        AL   \n",
       "1           1  tw-4762500137   Female          10   Luanda   Luanda        AO   \n",
       "2           2  tw-4762500137   Female          10   Luanda   Luanda        AO   \n",
       "3           3   tw-928769635   Female          13      NaN      NaN       NaN   \n",
       "4           4   tw-457193677  Unknown          13      NaN      NaN       NaN   \n",
       "\n",
       "     Country                TweetID  Hour  Day Weekday  IsReshare  Reach  \\\n",
       "0    Albania  tw-698155297102295041     7   12  Friday       True    339   \n",
       "1     Angola  tw-690506796876824576     5   22  Friday       True     63   \n",
       "2     Angola  tw-698315842434555904    18   12  Friday       True    107   \n",
       "3  Argentina  tw-685663098636791808    20    8  Friday      False    976   \n",
       "4  Argentina  tw-703293482832683008    12   26  Friday      False   6444   \n",
       "\n",
       "   RetweetCount  Likes  Klout  Sentiment Lang  \\\n",
       "0           127      0     44        0.0   en   \n",
       "1            26      0     16       -2.0   en   \n",
       "2            25      0     31       -2.0   en   \n",
       "3             0      0     40        3.0   en   \n",
       "4             1      0     55        0.0   es   \n",
       "\n",
       "                                                text  \n",
       "0  \"RT @AdrianRusso82: Our Innovation Lab is offi...  \n",
       "1  RT @imoyse: Microsoft slashes Azure prices up ...  \n",
       "2  RT @imoyse: House of clouds: Netflix abandons ...  \n",
       "3  @JazzyBieberNews So beautiful!! Aws @justinbie...  \n",
       "4                    @justinxfaso aws mil gracias eu  "
      ]
     },
     "execution_count": 98,
     "metadata": {},
     "output_type": "execute_result"
    }
   ],
   "source": [
    "Final_df.head()"
   ]
  },
  {
   "cell_type": "code",
   "execution_count": 99,
   "id": "32f49c25",
   "metadata": {
    "colab": {
     "base_uri": "https://localhost:8080/",
     "height": 808
    },
    "id": "32f49c25",
    "outputId": "698f4ea0-b223-41e3-e156-85317c6b5ede"
   },
   "outputs": [
    {
     "data": {
      "text/html": [
       "<div>\n",
       "<style scoped>\n",
       "    .dataframe tbody tr th:only-of-type {\n",
       "        vertical-align: middle;\n",
       "    }\n",
       "\n",
       "    .dataframe tbody tr th {\n",
       "        vertical-align: top;\n",
       "    }\n",
       "\n",
       "    .dataframe thead th {\n",
       "        text-align: right;\n",
       "    }\n",
       "</style>\n",
       "<table border=\"1\" class=\"dataframe\">\n",
       "  <thead>\n",
       "    <tr style=\"text-align: right;\">\n",
       "      <th></th>\n",
       "      <th>UserID</th>\n",
       "      <th>Gender</th>\n",
       "      <th>LocationID</th>\n",
       "      <th>City</th>\n",
       "      <th>State</th>\n",
       "      <th>StateCode</th>\n",
       "      <th>Country</th>\n",
       "      <th>TweetID</th>\n",
       "      <th>Hour</th>\n",
       "      <th>Day</th>\n",
       "      <th>Weekday</th>\n",
       "      <th>IsReshare</th>\n",
       "      <th>Reach</th>\n",
       "      <th>RetweetCount</th>\n",
       "      <th>Likes</th>\n",
       "      <th>Klout</th>\n",
       "      <th>Sentiment</th>\n",
       "      <th>Lang</th>\n",
       "      <th>text</th>\n",
       "    </tr>\n",
       "  </thead>\n",
       "  <tbody>\n",
       "    <tr>\n",
       "      <th>0</th>\n",
       "      <td>tw-1267804344</td>\n",
       "      <td>Unknown</td>\n",
       "      <td>1</td>\n",
       "      <td>Elbasan</td>\n",
       "      <td>Elbasan</td>\n",
       "      <td>AL</td>\n",
       "      <td>Albania</td>\n",
       "      <td>tw-698155297102295041</td>\n",
       "      <td>7</td>\n",
       "      <td>12</td>\n",
       "      <td>Friday</td>\n",
       "      <td>True</td>\n",
       "      <td>339</td>\n",
       "      <td>127</td>\n",
       "      <td>0</td>\n",
       "      <td>44</td>\n",
       "      <td>0.0</td>\n",
       "      <td>en</td>\n",
       "      <td>\"RT @AdrianRusso82: Our Innovation Lab is offi...</td>\n",
       "    </tr>\n",
       "    <tr>\n",
       "      <th>1</th>\n",
       "      <td>tw-4762500137</td>\n",
       "      <td>Female</td>\n",
       "      <td>10</td>\n",
       "      <td>Luanda</td>\n",
       "      <td>Luanda</td>\n",
       "      <td>AO</td>\n",
       "      <td>Angola</td>\n",
       "      <td>tw-690506796876824576</td>\n",
       "      <td>5</td>\n",
       "      <td>22</td>\n",
       "      <td>Friday</td>\n",
       "      <td>True</td>\n",
       "      <td>63</td>\n",
       "      <td>26</td>\n",
       "      <td>0</td>\n",
       "      <td>16</td>\n",
       "      <td>-2.0</td>\n",
       "      <td>en</td>\n",
       "      <td>RT @imoyse: Microsoft slashes Azure prices up ...</td>\n",
       "    </tr>\n",
       "    <tr>\n",
       "      <th>2</th>\n",
       "      <td>tw-4762500137</td>\n",
       "      <td>Female</td>\n",
       "      <td>10</td>\n",
       "      <td>Luanda</td>\n",
       "      <td>Luanda</td>\n",
       "      <td>AO</td>\n",
       "      <td>Angola</td>\n",
       "      <td>tw-698315842434555904</td>\n",
       "      <td>18</td>\n",
       "      <td>12</td>\n",
       "      <td>Friday</td>\n",
       "      <td>True</td>\n",
       "      <td>107</td>\n",
       "      <td>25</td>\n",
       "      <td>0</td>\n",
       "      <td>31</td>\n",
       "      <td>-2.0</td>\n",
       "      <td>en</td>\n",
       "      <td>RT @imoyse: House of clouds: Netflix abandons ...</td>\n",
       "    </tr>\n",
       "    <tr>\n",
       "      <th>3</th>\n",
       "      <td>tw-928769635</td>\n",
       "      <td>Female</td>\n",
       "      <td>13</td>\n",
       "      <td>NaN</td>\n",
       "      <td>NaN</td>\n",
       "      <td>NaN</td>\n",
       "      <td>Argentina</td>\n",
       "      <td>tw-685663098636791808</td>\n",
       "      <td>20</td>\n",
       "      <td>8</td>\n",
       "      <td>Friday</td>\n",
       "      <td>False</td>\n",
       "      <td>976</td>\n",
       "      <td>0</td>\n",
       "      <td>0</td>\n",
       "      <td>40</td>\n",
       "      <td>3.0</td>\n",
       "      <td>en</td>\n",
       "      <td>@JazzyBieberNews So beautiful!! Aws @justinbie...</td>\n",
       "    </tr>\n",
       "    <tr>\n",
       "      <th>4</th>\n",
       "      <td>tw-457193677</td>\n",
       "      <td>Unknown</td>\n",
       "      <td>13</td>\n",
       "      <td>NaN</td>\n",
       "      <td>NaN</td>\n",
       "      <td>NaN</td>\n",
       "      <td>Argentina</td>\n",
       "      <td>tw-703293482832683008</td>\n",
       "      <td>12</td>\n",
       "      <td>26</td>\n",
       "      <td>Friday</td>\n",
       "      <td>False</td>\n",
       "      <td>6444</td>\n",
       "      <td>1</td>\n",
       "      <td>0</td>\n",
       "      <td>55</td>\n",
       "      <td>0.0</td>\n",
       "      <td>es</td>\n",
       "      <td>@justinxfaso aws mil gracias eu</td>\n",
       "    </tr>\n",
       "    <tr>\n",
       "      <th>...</th>\n",
       "      <td>...</td>\n",
       "      <td>...</td>\n",
       "      <td>...</td>\n",
       "      <td>...</td>\n",
       "      <td>...</td>\n",
       "      <td>...</td>\n",
       "      <td>...</td>\n",
       "      <td>...</td>\n",
       "      <td>...</td>\n",
       "      <td>...</td>\n",
       "      <td>...</td>\n",
       "      <td>...</td>\n",
       "      <td>...</td>\n",
       "      <td>...</td>\n",
       "      <td>...</td>\n",
       "      <td>...</td>\n",
       "      <td>...</td>\n",
       "      <td>...</td>\n",
       "      <td>...</td>\n",
       "    </tr>\n",
       "    <tr>\n",
       "      <th>102057</th>\n",
       "      <td>tw-75190953</td>\n",
       "      <td>Male</td>\n",
       "      <td>6279</td>\n",
       "      <td>Ho Chi Minh City</td>\n",
       "      <td>Ho Chi Minh City</td>\n",
       "      <td>VN</td>\n",
       "      <td>Vietnam</td>\n",
       "      <td>tw-697563129488805888</td>\n",
       "      <td>16</td>\n",
       "      <td>10</td>\n",
       "      <td>Wednesday</td>\n",
       "      <td>False</td>\n",
       "      <td>111</td>\n",
       "      <td>0</td>\n",
       "      <td>0</td>\n",
       "      <td>28</td>\n",
       "      <td>1.0</td>\n",
       "      <td>en</td>\n",
       "      <td>Google has quietly launched its answer to AWS ...</td>\n",
       "    </tr>\n",
       "    <tr>\n",
       "      <th>102058</th>\n",
       "      <td>tw-594926522</td>\n",
       "      <td>Male</td>\n",
       "      <td>6283</td>\n",
       "      <td>Lusaka</td>\n",
       "      <td>Lusaka</td>\n",
       "      <td>ZM</td>\n",
       "      <td>Zambia</td>\n",
       "      <td>tw-684750918462652416</td>\n",
       "      <td>7</td>\n",
       "      <td>6</td>\n",
       "      <td>Wednesday</td>\n",
       "      <td>True</td>\n",
       "      <td>331</td>\n",
       "      <td>1</td>\n",
       "      <td>0</td>\n",
       "      <td>41</td>\n",
       "      <td>0.0</td>\n",
       "      <td>en</td>\n",
       "      <td>RT @jeffmnall: The other offerings feel 'cobbl...</td>\n",
       "    </tr>\n",
       "    <tr>\n",
       "      <th>102059</th>\n",
       "      <td>tw-594926522</td>\n",
       "      <td>Male</td>\n",
       "      <td>6283</td>\n",
       "      <td>Lusaka</td>\n",
       "      <td>Lusaka</td>\n",
       "      <td>ZM</td>\n",
       "      <td>Zambia</td>\n",
       "      <td>tw-689738393023049728</td>\n",
       "      <td>2</td>\n",
       "      <td>20</td>\n",
       "      <td>Wednesday</td>\n",
       "      <td>True</td>\n",
       "      <td>341</td>\n",
       "      <td>1</td>\n",
       "      <td>0</td>\n",
       "      <td>42</td>\n",
       "      <td>0.0</td>\n",
       "      <td>en</td>\n",
       "      <td>RT @SiliconArmada: Systems Engineer @MongoDB #...</td>\n",
       "    </tr>\n",
       "    <tr>\n",
       "      <th>102060</th>\n",
       "      <td>tw-95376359</td>\n",
       "      <td>Unisex</td>\n",
       "      <td>6287</td>\n",
       "      <td>Ndola</td>\n",
       "      <td>Copperbelt</td>\n",
       "      <td>ZM</td>\n",
       "      <td>Zambia</td>\n",
       "      <td>tw-702581824921477120</td>\n",
       "      <td>12</td>\n",
       "      <td>24</td>\n",
       "      <td>Wednesday</td>\n",
       "      <td>False</td>\n",
       "      <td>1229</td>\n",
       "      <td>0</td>\n",
       "      <td>0</td>\n",
       "      <td>41</td>\n",
       "      <td>4.0</td>\n",
       "      <td>en</td>\n",
       "      <td>I'm really really intrigued by stripe atlas......</td>\n",
       "    </tr>\n",
       "    <tr>\n",
       "      <th>102061</th>\n",
       "      <td>tw-448919812</td>\n",
       "      <td>Unisex</td>\n",
       "      <td>6288</td>\n",
       "      <td>Harare</td>\n",
       "      <td>Harare Province</td>\n",
       "      <td>ZW</td>\n",
       "      <td>Zimbabwe</td>\n",
       "      <td>tw-705055534920163328</td>\n",
       "      <td>8</td>\n",
       "      <td>2</td>\n",
       "      <td>Wednesday</td>\n",
       "      <td>True</td>\n",
       "      <td>188</td>\n",
       "      <td>5</td>\n",
       "      <td>0</td>\n",
       "      <td>37</td>\n",
       "      <td>0.0</td>\n",
       "      <td>en</td>\n",
       "      <td>RT @awscloud: New on the AWS Startup Blog - Wh...</td>\n",
       "    </tr>\n",
       "  </tbody>\n",
       "</table>\n",
       "<p>102062 rows × 19 columns</p>\n",
       "</div>"
      ],
      "text/plain": [
       "               UserID   Gender  LocationID              City  \\\n",
       "0       tw-1267804344  Unknown           1           Elbasan   \n",
       "1       tw-4762500137   Female          10            Luanda   \n",
       "2       tw-4762500137   Female          10            Luanda   \n",
       "3        tw-928769635   Female          13               NaN   \n",
       "4        tw-457193677  Unknown          13               NaN   \n",
       "...               ...      ...         ...               ...   \n",
       "102057    tw-75190953     Male        6279  Ho Chi Minh City   \n",
       "102058   tw-594926522     Male        6283            Lusaka   \n",
       "102059   tw-594926522     Male        6283            Lusaka   \n",
       "102060    tw-95376359   Unisex        6287             Ndola   \n",
       "102061   tw-448919812   Unisex        6288            Harare   \n",
       "\n",
       "                   State StateCode    Country                TweetID  Hour  \\\n",
       "0                Elbasan        AL    Albania  tw-698155297102295041     7   \n",
       "1                 Luanda        AO     Angola  tw-690506796876824576     5   \n",
       "2                 Luanda        AO     Angola  tw-698315842434555904    18   \n",
       "3                    NaN       NaN  Argentina  tw-685663098636791808    20   \n",
       "4                    NaN       NaN  Argentina  tw-703293482832683008    12   \n",
       "...                  ...       ...        ...                    ...   ...   \n",
       "102057  Ho Chi Minh City        VN    Vietnam  tw-697563129488805888    16   \n",
       "102058            Lusaka        ZM     Zambia  tw-684750918462652416     7   \n",
       "102059            Lusaka        ZM     Zambia  tw-689738393023049728     2   \n",
       "102060        Copperbelt        ZM     Zambia  tw-702581824921477120    12   \n",
       "102061   Harare Province        ZW   Zimbabwe  tw-705055534920163328     8   \n",
       "\n",
       "        Day    Weekday  IsReshare  Reach  RetweetCount  Likes  Klout  \\\n",
       "0        12     Friday       True    339           127      0     44   \n",
       "1        22     Friday       True     63            26      0     16   \n",
       "2        12     Friday       True    107            25      0     31   \n",
       "3         8     Friday      False    976             0      0     40   \n",
       "4        26     Friday      False   6444             1      0     55   \n",
       "...     ...        ...        ...    ...           ...    ...    ...   \n",
       "102057   10  Wednesday      False    111             0      0     28   \n",
       "102058    6  Wednesday       True    331             1      0     41   \n",
       "102059   20  Wednesday       True    341             1      0     42   \n",
       "102060   24  Wednesday      False   1229             0      0     41   \n",
       "102061    2  Wednesday       True    188             5      0     37   \n",
       "\n",
       "        Sentiment Lang                                               text  \n",
       "0             0.0   en  \"RT @AdrianRusso82: Our Innovation Lab is offi...  \n",
       "1            -2.0   en  RT @imoyse: Microsoft slashes Azure prices up ...  \n",
       "2            -2.0   en  RT @imoyse: House of clouds: Netflix abandons ...  \n",
       "3             3.0   en  @JazzyBieberNews So beautiful!! Aws @justinbie...  \n",
       "4             0.0   es                    @justinxfaso aws mil gracias eu  \n",
       "...           ...  ...                                                ...  \n",
       "102057        1.0   en  Google has quietly launched its answer to AWS ...  \n",
       "102058        0.0   en  RT @jeffmnall: The other offerings feel 'cobbl...  \n",
       "102059        0.0   en  RT @SiliconArmada: Systems Engineer @MongoDB #...  \n",
       "102060        4.0   en  I'm really really intrigued by stripe atlas......  \n",
       "102061        0.0   en  RT @awscloud: New on the AWS Startup Blog - Wh...  \n",
       "\n",
       "[102062 rows x 19 columns]"
      ]
     },
     "execution_count": 99,
     "metadata": {},
     "output_type": "execute_result"
    }
   ],
   "source": [
    "Final_df=Final_df.drop('Unnamed: 0',axis=1)\n",
    "Final_df"
   ]
  },
  {
   "cell_type": "markdown",
   "id": "80ba0f20",
   "metadata": {
    "id": "80ba0f20"
   },
   "source": [
    "## Understanding the structure of the Data"
   ]
  },
  {
   "cell_type": "code",
   "execution_count": 100,
   "id": "780f06d4",
   "metadata": {
    "colab": {
     "base_uri": "https://localhost:8080/"
    },
    "id": "780f06d4",
    "outputId": "41ff25b2-743d-40fa-8833-9a1c6d64803d"
   },
   "outputs": [
    {
     "name": "stdout",
     "output_type": "stream",
     "text": [
      "<class 'pandas.core.frame.DataFrame'>\n",
      "RangeIndex: 102062 entries, 0 to 102061\n",
      "Data columns (total 19 columns):\n",
      " #   Column        Non-Null Count   Dtype  \n",
      "---  ------        --------------   -----  \n",
      " 0   UserID        102062 non-null  object \n",
      " 1   Gender        102062 non-null  object \n",
      " 2   LocationID    102062 non-null  int64  \n",
      " 3   City          99783 non-null   object \n",
      " 4   State         100165 non-null  object \n",
      " 5   StateCode     100336 non-null  object \n",
      " 6   Country       102062 non-null  object \n",
      " 7   TweetID       102062 non-null  object \n",
      " 8   Hour          102062 non-null  int64  \n",
      " 9   Day           102062 non-null  int64  \n",
      " 10  Weekday       102062 non-null  object \n",
      " 11  IsReshare     102062 non-null  bool   \n",
      " 12  Reach         102062 non-null  int64  \n",
      " 13  RetweetCount  102062 non-null  int64  \n",
      " 14  Likes         102062 non-null  int64  \n",
      " 15  Klout         102062 non-null  int64  \n",
      " 16  Sentiment     102062 non-null  float64\n",
      " 17  Lang          102062 non-null  object \n",
      " 18  text          102062 non-null  object \n",
      "dtypes: bool(1), float64(1), int64(7), object(10)\n",
      "memory usage: 14.1+ MB\n"
     ]
    }
   ],
   "source": [
    "Final_df.info()"
   ]
  },
  {
   "cell_type": "code",
   "execution_count": 101,
   "id": "be1e7570",
   "metadata": {
    "colab": {
     "base_uri": "https://localhost:8080/",
     "height": 300
    },
    "id": "be1e7570",
    "outputId": "8417c7d8-eeae-4f05-d874-059d6668cb22"
   },
   "outputs": [
    {
     "data": {
      "text/html": [
       "<div>\n",
       "<style scoped>\n",
       "    .dataframe tbody tr th:only-of-type {\n",
       "        vertical-align: middle;\n",
       "    }\n",
       "\n",
       "    .dataframe tbody tr th {\n",
       "        vertical-align: top;\n",
       "    }\n",
       "\n",
       "    .dataframe thead th {\n",
       "        text-align: right;\n",
       "    }\n",
       "</style>\n",
       "<table border=\"1\" class=\"dataframe\">\n",
       "  <thead>\n",
       "    <tr style=\"text-align: right;\">\n",
       "      <th></th>\n",
       "      <th>LocationID</th>\n",
       "      <th>Hour</th>\n",
       "      <th>Day</th>\n",
       "      <th>Reach</th>\n",
       "      <th>RetweetCount</th>\n",
       "      <th>Likes</th>\n",
       "      <th>Klout</th>\n",
       "      <th>Sentiment</th>\n",
       "    </tr>\n",
       "  </thead>\n",
       "  <tbody>\n",
       "    <tr>\n",
       "      <th>count</th>\n",
       "      <td>102062.000000</td>\n",
       "      <td>102062.000000</td>\n",
       "      <td>102062.000000</td>\n",
       "      <td>1.020620e+05</td>\n",
       "      <td>102062.000000</td>\n",
       "      <td>102062.000000</td>\n",
       "      <td>102062.000000</td>\n",
       "      <td>102062.000000</td>\n",
       "    </tr>\n",
       "    <tr>\n",
       "      <th>mean</th>\n",
       "      <td>2836.207687</td>\n",
       "      <td>11.416149</td>\n",
       "      <td>15.898709</td>\n",
       "      <td>8.426389e+03</td>\n",
       "      <td>7.986449</td>\n",
       "      <td>0.149684</td>\n",
       "      <td>40.409986</td>\n",
       "      <td>0.380754</td>\n",
       "    </tr>\n",
       "    <tr>\n",
       "      <th>std</th>\n",
       "      <td>1330.294460</td>\n",
       "      <td>6.062294</td>\n",
       "      <td>8.401409</td>\n",
       "      <td>8.777762e+04</td>\n",
       "      <td>96.914644</td>\n",
       "      <td>2.557491</td>\n",
       "      <td>13.652028</td>\n",
       "      <td>1.046501</td>\n",
       "    </tr>\n",
       "    <tr>\n",
       "      <th>min</th>\n",
       "      <td>1.000000</td>\n",
       "      <td>0.000000</td>\n",
       "      <td>1.000000</td>\n",
       "      <td>0.000000e+00</td>\n",
       "      <td>0.000000</td>\n",
       "      <td>0.000000</td>\n",
       "      <td>0.000000</td>\n",
       "      <td>-6.000000</td>\n",
       "    </tr>\n",
       "    <tr>\n",
       "      <th>25%</th>\n",
       "      <td>1601.000000</td>\n",
       "      <td>7.000000</td>\n",
       "      <td>9.000000</td>\n",
       "      <td>1.520000e+02</td>\n",
       "      <td>0.000000</td>\n",
       "      <td>0.000000</td>\n",
       "      <td>32.000000</td>\n",
       "      <td>0.000000</td>\n",
       "    </tr>\n",
       "    <tr>\n",
       "      <th>50%</th>\n",
       "      <td>3738.000000</td>\n",
       "      <td>11.000000</td>\n",
       "      <td>16.000000</td>\n",
       "      <td>4.540000e+02</td>\n",
       "      <td>0.000000</td>\n",
       "      <td>0.000000</td>\n",
       "      <td>43.000000</td>\n",
       "      <td>0.000000</td>\n",
       "    </tr>\n",
       "    <tr>\n",
       "      <th>75%</th>\n",
       "      <td>3774.000000</td>\n",
       "      <td>16.000000</td>\n",
       "      <td>23.000000</td>\n",
       "      <td>1.519000e+03</td>\n",
       "      <td>3.000000</td>\n",
       "      <td>0.000000</td>\n",
       "      <td>49.000000</td>\n",
       "      <td>0.600000</td>\n",
       "    </tr>\n",
       "    <tr>\n",
       "      <th>max</th>\n",
       "      <td>6289.000000</td>\n",
       "      <td>23.000000</td>\n",
       "      <td>31.000000</td>\n",
       "      <td>1.034245e+07</td>\n",
       "      <td>26127.000000</td>\n",
       "      <td>133.000000</td>\n",
       "      <td>99.000000</td>\n",
       "      <td>7.333333</td>\n",
       "    </tr>\n",
       "  </tbody>\n",
       "</table>\n",
       "</div>"
      ],
      "text/plain": [
       "          LocationID           Hour            Day         Reach  \\\n",
       "count  102062.000000  102062.000000  102062.000000  1.020620e+05   \n",
       "mean     2836.207687      11.416149      15.898709  8.426389e+03   \n",
       "std      1330.294460       6.062294       8.401409  8.777762e+04   \n",
       "min         1.000000       0.000000       1.000000  0.000000e+00   \n",
       "25%      1601.000000       7.000000       9.000000  1.520000e+02   \n",
       "50%      3738.000000      11.000000      16.000000  4.540000e+02   \n",
       "75%      3774.000000      16.000000      23.000000  1.519000e+03   \n",
       "max      6289.000000      23.000000      31.000000  1.034245e+07   \n",
       "\n",
       "        RetweetCount          Likes          Klout      Sentiment  \n",
       "count  102062.000000  102062.000000  102062.000000  102062.000000  \n",
       "mean        7.986449       0.149684      40.409986       0.380754  \n",
       "std        96.914644       2.557491      13.652028       1.046501  \n",
       "min         0.000000       0.000000       0.000000      -6.000000  \n",
       "25%         0.000000       0.000000      32.000000       0.000000  \n",
       "50%         0.000000       0.000000      43.000000       0.000000  \n",
       "75%         3.000000       0.000000      49.000000       0.600000  \n",
       "max     26127.000000     133.000000      99.000000       7.333333  "
      ]
     },
     "execution_count": 101,
     "metadata": {},
     "output_type": "execute_result"
    }
   ],
   "source": [
    "Final_df.describe()"
   ]
  },
  {
   "cell_type": "code",
   "execution_count": 102,
   "id": "5b2f7db5",
   "metadata": {
    "colab": {
     "base_uri": "https://localhost:8080/"
    },
    "id": "5b2f7db5",
    "outputId": "d0c60195-43e0-461d-e758-8fa2af4b7fa0"
   },
   "outputs": [
    {
     "data": {
      "text/plain": [
       "(102062, 19)"
      ]
     },
     "execution_count": 102,
     "metadata": {},
     "output_type": "execute_result"
    }
   ],
   "source": [
    "Final_df.shape"
   ]
  },
  {
   "cell_type": "code",
   "execution_count": 103,
   "id": "d9e45257",
   "metadata": {
    "colab": {
     "base_uri": "https://localhost:8080/"
    },
    "id": "d9e45257",
    "outputId": "b26cdebf-1950-47ff-f0a4-aa7577a34f61"
   },
   "outputs": [
    {
     "data": {
      "text/plain": [
       "Index(['UserID', 'Gender', 'LocationID', 'City', 'State', 'StateCode',\n",
       "       'Country', 'TweetID', 'Hour', 'Day', 'Weekday', 'IsReshare', 'Reach',\n",
       "       'RetweetCount', 'Likes', 'Klout', 'Sentiment', 'Lang', 'text'],\n",
       "      dtype='object')"
      ]
     },
     "execution_count": 103,
     "metadata": {},
     "output_type": "execute_result"
    }
   ],
   "source": [
    "Final_df.columns"
   ]
  },
  {
   "cell_type": "markdown",
   "id": "1aff99a1",
   "metadata": {
    "id": "1aff99a1"
   },
   "source": [
    "\n",
    "## Handling the missing values"
   ]
  },
  {
   "cell_type": "code",
   "execution_count": 104,
   "id": "f50dd8e6",
   "metadata": {
    "colab": {
     "base_uri": "https://localhost:8080/"
    },
    "id": "f50dd8e6",
    "outputId": "5af6e94b-ab7f-4ebb-97f5-bce91eae525e"
   },
   "outputs": [
    {
     "data": {
      "text/plain": [
       "UserID             0\n",
       "Gender             0\n",
       "LocationID         0\n",
       "City            2279\n",
       "State           1897\n",
       "StateCode       1726\n",
       "Country            0\n",
       "TweetID            0\n",
       "Hour               0\n",
       "Day                0\n",
       "Weekday            0\n",
       "IsReshare          0\n",
       "Reach              0\n",
       "RetweetCount       0\n",
       "Likes              0\n",
       "Klout              0\n",
       "Sentiment          0\n",
       "Lang               0\n",
       "text               0\n",
       "dtype: int64"
      ]
     },
     "execution_count": 104,
     "metadata": {},
     "output_type": "execute_result"
    }
   ],
   "source": [
    "missing_values = Final_df.isnull().sum()\n",
    "missing_values"
   ]
  },
  {
   "cell_type": "code",
   "execution_count": 105,
   "id": "54506c1b",
   "metadata": {
    "colab": {
     "base_uri": "https://localhost:8080/",
     "height": 634
    },
    "id": "54506c1b",
    "outputId": "dce41d15-b95f-4096-ef36-cb68ab80e09a"
   },
   "outputs": [
    {
     "data": {
      "text/html": [
       "<div>\n",
       "<style scoped>\n",
       "    .dataframe tbody tr th:only-of-type {\n",
       "        vertical-align: middle;\n",
       "    }\n",
       "\n",
       "    .dataframe tbody tr th {\n",
       "        vertical-align: top;\n",
       "    }\n",
       "\n",
       "    .dataframe thead th {\n",
       "        text-align: right;\n",
       "    }\n",
       "</style>\n",
       "<table border=\"1\" class=\"dataframe\">\n",
       "  <thead>\n",
       "    <tr style=\"text-align: right;\">\n",
       "      <th></th>\n",
       "      <th>UserID</th>\n",
       "      <th>Gender</th>\n",
       "      <th>LocationID</th>\n",
       "      <th>City</th>\n",
       "      <th>State</th>\n",
       "      <th>StateCode</th>\n",
       "      <th>Country</th>\n",
       "      <th>TweetID</th>\n",
       "      <th>Hour</th>\n",
       "      <th>Day</th>\n",
       "      <th>Weekday</th>\n",
       "      <th>IsReshare</th>\n",
       "      <th>Reach</th>\n",
       "      <th>RetweetCount</th>\n",
       "      <th>Likes</th>\n",
       "      <th>Klout</th>\n",
       "      <th>Sentiment</th>\n",
       "      <th>Lang</th>\n",
       "      <th>text</th>\n",
       "    </tr>\n",
       "  </thead>\n",
       "  <tbody>\n",
       "    <tr>\n",
       "      <th>0</th>\n",
       "      <td>tw-1267804344</td>\n",
       "      <td>Unknown</td>\n",
       "      <td>1</td>\n",
       "      <td>Elbasan</td>\n",
       "      <td>Elbasan</td>\n",
       "      <td>AL</td>\n",
       "      <td>Albania</td>\n",
       "      <td>tw-698155297102295041</td>\n",
       "      <td>7</td>\n",
       "      <td>12</td>\n",
       "      <td>Friday</td>\n",
       "      <td>True</td>\n",
       "      <td>339</td>\n",
       "      <td>127</td>\n",
       "      <td>0</td>\n",
       "      <td>44</td>\n",
       "      <td>0.0</td>\n",
       "      <td>en</td>\n",
       "      <td>\"RT @AdrianRusso82: Our Innovation Lab is offi...</td>\n",
       "    </tr>\n",
       "    <tr>\n",
       "      <th>1</th>\n",
       "      <td>tw-4762500137</td>\n",
       "      <td>Female</td>\n",
       "      <td>10</td>\n",
       "      <td>Luanda</td>\n",
       "      <td>Luanda</td>\n",
       "      <td>AO</td>\n",
       "      <td>Angola</td>\n",
       "      <td>tw-690506796876824576</td>\n",
       "      <td>5</td>\n",
       "      <td>22</td>\n",
       "      <td>Friday</td>\n",
       "      <td>True</td>\n",
       "      <td>63</td>\n",
       "      <td>26</td>\n",
       "      <td>0</td>\n",
       "      <td>16</td>\n",
       "      <td>-2.0</td>\n",
       "      <td>en</td>\n",
       "      <td>RT @imoyse: Microsoft slashes Azure prices up ...</td>\n",
       "    </tr>\n",
       "    <tr>\n",
       "      <th>2</th>\n",
       "      <td>tw-4762500137</td>\n",
       "      <td>Female</td>\n",
       "      <td>10</td>\n",
       "      <td>Luanda</td>\n",
       "      <td>Luanda</td>\n",
       "      <td>AO</td>\n",
       "      <td>Angola</td>\n",
       "      <td>tw-698315842434555904</td>\n",
       "      <td>18</td>\n",
       "      <td>12</td>\n",
       "      <td>Friday</td>\n",
       "      <td>True</td>\n",
       "      <td>107</td>\n",
       "      <td>25</td>\n",
       "      <td>0</td>\n",
       "      <td>31</td>\n",
       "      <td>-2.0</td>\n",
       "      <td>en</td>\n",
       "      <td>RT @imoyse: House of clouds: Netflix abandons ...</td>\n",
       "    </tr>\n",
       "    <tr>\n",
       "      <th>11</th>\n",
       "      <td>tw-3339262295</td>\n",
       "      <td>Unisex</td>\n",
       "      <td>14</td>\n",
       "      <td>Buenos Aires</td>\n",
       "      <td>Buenos Aires F.D.</td>\n",
       "      <td>AR</td>\n",
       "      <td>Argentina</td>\n",
       "      <td>tw-685668386169315328</td>\n",
       "      <td>20</td>\n",
       "      <td>8</td>\n",
       "      <td>Friday</td>\n",
       "      <td>False</td>\n",
       "      <td>523</td>\n",
       "      <td>0</td>\n",
       "      <td>0</td>\n",
       "      <td>46</td>\n",
       "      <td>0.0</td>\n",
       "      <td>_u</td>\n",
       "      <td>@nachonayar aws https://twitter.com/humildades...</td>\n",
       "    </tr>\n",
       "    <tr>\n",
       "      <th>12</th>\n",
       "      <td>tw-40031027</td>\n",
       "      <td>Unknown</td>\n",
       "      <td>14</td>\n",
       "      <td>Buenos Aires</td>\n",
       "      <td>Buenos Aires F.D.</td>\n",
       "      <td>AR</td>\n",
       "      <td>Argentina</td>\n",
       "      <td>tw-688021501577146369</td>\n",
       "      <td>8</td>\n",
       "      <td>15</td>\n",
       "      <td>Friday</td>\n",
       "      <td>False</td>\n",
       "      <td>177</td>\n",
       "      <td>0</td>\n",
       "      <td>0</td>\n",
       "      <td>33</td>\n",
       "      <td>0.0</td>\n",
       "      <td>en</td>\n",
       "      <td>@awscloud hey! when is EFS going to become ava...</td>\n",
       "    </tr>\n",
       "    <tr>\n",
       "      <th>...</th>\n",
       "      <td>...</td>\n",
       "      <td>...</td>\n",
       "      <td>...</td>\n",
       "      <td>...</td>\n",
       "      <td>...</td>\n",
       "      <td>...</td>\n",
       "      <td>...</td>\n",
       "      <td>...</td>\n",
       "      <td>...</td>\n",
       "      <td>...</td>\n",
       "      <td>...</td>\n",
       "      <td>...</td>\n",
       "      <td>...</td>\n",
       "      <td>...</td>\n",
       "      <td>...</td>\n",
       "      <td>...</td>\n",
       "      <td>...</td>\n",
       "      <td>...</td>\n",
       "      <td>...</td>\n",
       "    </tr>\n",
       "    <tr>\n",
       "      <th>102057</th>\n",
       "      <td>tw-75190953</td>\n",
       "      <td>Male</td>\n",
       "      <td>6279</td>\n",
       "      <td>Ho Chi Minh City</td>\n",
       "      <td>Ho Chi Minh City</td>\n",
       "      <td>VN</td>\n",
       "      <td>Vietnam</td>\n",
       "      <td>tw-697563129488805888</td>\n",
       "      <td>16</td>\n",
       "      <td>10</td>\n",
       "      <td>Wednesday</td>\n",
       "      <td>False</td>\n",
       "      <td>111</td>\n",
       "      <td>0</td>\n",
       "      <td>0</td>\n",
       "      <td>28</td>\n",
       "      <td>1.0</td>\n",
       "      <td>en</td>\n",
       "      <td>Google has quietly launched its answer to AWS ...</td>\n",
       "    </tr>\n",
       "    <tr>\n",
       "      <th>102058</th>\n",
       "      <td>tw-594926522</td>\n",
       "      <td>Male</td>\n",
       "      <td>6283</td>\n",
       "      <td>Lusaka</td>\n",
       "      <td>Lusaka</td>\n",
       "      <td>ZM</td>\n",
       "      <td>Zambia</td>\n",
       "      <td>tw-684750918462652416</td>\n",
       "      <td>7</td>\n",
       "      <td>6</td>\n",
       "      <td>Wednesday</td>\n",
       "      <td>True</td>\n",
       "      <td>331</td>\n",
       "      <td>1</td>\n",
       "      <td>0</td>\n",
       "      <td>41</td>\n",
       "      <td>0.0</td>\n",
       "      <td>en</td>\n",
       "      <td>RT @jeffmnall: The other offerings feel 'cobbl...</td>\n",
       "    </tr>\n",
       "    <tr>\n",
       "      <th>102059</th>\n",
       "      <td>tw-594926522</td>\n",
       "      <td>Male</td>\n",
       "      <td>6283</td>\n",
       "      <td>Lusaka</td>\n",
       "      <td>Lusaka</td>\n",
       "      <td>ZM</td>\n",
       "      <td>Zambia</td>\n",
       "      <td>tw-689738393023049728</td>\n",
       "      <td>2</td>\n",
       "      <td>20</td>\n",
       "      <td>Wednesday</td>\n",
       "      <td>True</td>\n",
       "      <td>341</td>\n",
       "      <td>1</td>\n",
       "      <td>0</td>\n",
       "      <td>42</td>\n",
       "      <td>0.0</td>\n",
       "      <td>en</td>\n",
       "      <td>RT @SiliconArmada: Systems Engineer @MongoDB #...</td>\n",
       "    </tr>\n",
       "    <tr>\n",
       "      <th>102060</th>\n",
       "      <td>tw-95376359</td>\n",
       "      <td>Unisex</td>\n",
       "      <td>6287</td>\n",
       "      <td>Ndola</td>\n",
       "      <td>Copperbelt</td>\n",
       "      <td>ZM</td>\n",
       "      <td>Zambia</td>\n",
       "      <td>tw-702581824921477120</td>\n",
       "      <td>12</td>\n",
       "      <td>24</td>\n",
       "      <td>Wednesday</td>\n",
       "      <td>False</td>\n",
       "      <td>1229</td>\n",
       "      <td>0</td>\n",
       "      <td>0</td>\n",
       "      <td>41</td>\n",
       "      <td>4.0</td>\n",
       "      <td>en</td>\n",
       "      <td>I'm really really intrigued by stripe atlas......</td>\n",
       "    </tr>\n",
       "    <tr>\n",
       "      <th>102061</th>\n",
       "      <td>tw-448919812</td>\n",
       "      <td>Unisex</td>\n",
       "      <td>6288</td>\n",
       "      <td>Harare</td>\n",
       "      <td>Harare Province</td>\n",
       "      <td>ZW</td>\n",
       "      <td>Zimbabwe</td>\n",
       "      <td>tw-705055534920163328</td>\n",
       "      <td>8</td>\n",
       "      <td>2</td>\n",
       "      <td>Wednesday</td>\n",
       "      <td>True</td>\n",
       "      <td>188</td>\n",
       "      <td>5</td>\n",
       "      <td>0</td>\n",
       "      <td>37</td>\n",
       "      <td>0.0</td>\n",
       "      <td>en</td>\n",
       "      <td>RT @awscloud: New on the AWS Startup Blog - Wh...</td>\n",
       "    </tr>\n",
       "  </tbody>\n",
       "</table>\n",
       "<p>99768 rows × 19 columns</p>\n",
       "</div>"
      ],
      "text/plain": [
       "               UserID   Gender  LocationID              City  \\\n",
       "0       tw-1267804344  Unknown           1           Elbasan   \n",
       "1       tw-4762500137   Female          10            Luanda   \n",
       "2       tw-4762500137   Female          10            Luanda   \n",
       "11      tw-3339262295   Unisex          14      Buenos Aires   \n",
       "12        tw-40031027  Unknown          14      Buenos Aires   \n",
       "...               ...      ...         ...               ...   \n",
       "102057    tw-75190953     Male        6279  Ho Chi Minh City   \n",
       "102058   tw-594926522     Male        6283            Lusaka   \n",
       "102059   tw-594926522     Male        6283            Lusaka   \n",
       "102060    tw-95376359   Unisex        6287             Ndola   \n",
       "102061   tw-448919812   Unisex        6288            Harare   \n",
       "\n",
       "                    State StateCode    Country                TweetID  Hour  \\\n",
       "0                 Elbasan        AL    Albania  tw-698155297102295041     7   \n",
       "1                  Luanda        AO     Angola  tw-690506796876824576     5   \n",
       "2                  Luanda        AO     Angola  tw-698315842434555904    18   \n",
       "11      Buenos Aires F.D.        AR  Argentina  tw-685668386169315328    20   \n",
       "12      Buenos Aires F.D.        AR  Argentina  tw-688021501577146369     8   \n",
       "...                   ...       ...        ...                    ...   ...   \n",
       "102057   Ho Chi Minh City        VN    Vietnam  tw-697563129488805888    16   \n",
       "102058             Lusaka        ZM     Zambia  tw-684750918462652416     7   \n",
       "102059             Lusaka        ZM     Zambia  tw-689738393023049728     2   \n",
       "102060         Copperbelt        ZM     Zambia  tw-702581824921477120    12   \n",
       "102061    Harare Province        ZW   Zimbabwe  tw-705055534920163328     8   \n",
       "\n",
       "        Day    Weekday  IsReshare  Reach  RetweetCount  Likes  Klout  \\\n",
       "0        12     Friday       True    339           127      0     44   \n",
       "1        22     Friday       True     63            26      0     16   \n",
       "2        12     Friday       True    107            25      0     31   \n",
       "11        8     Friday      False    523             0      0     46   \n",
       "12       15     Friday      False    177             0      0     33   \n",
       "...     ...        ...        ...    ...           ...    ...    ...   \n",
       "102057   10  Wednesday      False    111             0      0     28   \n",
       "102058    6  Wednesday       True    331             1      0     41   \n",
       "102059   20  Wednesday       True    341             1      0     42   \n",
       "102060   24  Wednesday      False   1229             0      0     41   \n",
       "102061    2  Wednesday       True    188             5      0     37   \n",
       "\n",
       "        Sentiment Lang                                               text  \n",
       "0             0.0   en  \"RT @AdrianRusso82: Our Innovation Lab is offi...  \n",
       "1            -2.0   en  RT @imoyse: Microsoft slashes Azure prices up ...  \n",
       "2            -2.0   en  RT @imoyse: House of clouds: Netflix abandons ...  \n",
       "11            0.0   _u  @nachonayar aws https://twitter.com/humildades...  \n",
       "12            0.0   en  @awscloud hey! when is EFS going to become ava...  \n",
       "...           ...  ...                                                ...  \n",
       "102057        1.0   en  Google has quietly launched its answer to AWS ...  \n",
       "102058        0.0   en  RT @jeffmnall: The other offerings feel 'cobbl...  \n",
       "102059        0.0   en  RT @SiliconArmada: Systems Engineer @MongoDB #...  \n",
       "102060        4.0   en  I'm really really intrigued by stripe atlas......  \n",
       "102061        0.0   en  RT @awscloud: New on the AWS Startup Blog - Wh...  \n",
       "\n",
       "[99768 rows x 19 columns]"
      ]
     },
     "execution_count": 105,
     "metadata": {},
     "output_type": "execute_result"
    }
   ],
   "source": [
    "Final_df.dropna(inplace=True)\n",
    "Final_df"
   ]
  },
  {
   "cell_type": "code",
   "execution_count": 106,
   "id": "df37fb79",
   "metadata": {
    "colab": {
     "base_uri": "https://localhost:8080/"
    },
    "id": "df37fb79",
    "outputId": "9895dc5d-0f2f-47d3-8b3c-d48168899728"
   },
   "outputs": [
    {
     "data": {
      "text/plain": [
       "(99768, 19)"
      ]
     },
     "execution_count": 106,
     "metadata": {},
     "output_type": "execute_result"
    }
   ],
   "source": [
    "Final_df.shape"
   ]
  },
  {
   "cell_type": "markdown",
   "id": "5fb19865",
   "metadata": {
    "id": "5fb19865"
   },
   "source": [
    "## Visualisation"
   ]
  },
  {
   "cell_type": "markdown",
   "id": "a96859d3",
   "metadata": {
    "id": "a96859d3"
   },
   "source": [
    "### Gender"
   ]
  },
  {
   "cell_type": "code",
   "execution_count": 107,
   "id": "3b58bc5c",
   "metadata": {},
   "outputs": [
    {
     "data": {
      "image/png": "[encoded data removed]",
      "text/plain": [
       "<Figure size 640x480 with 1 Axes>"
      ]
     },
     "metadata": {},
     "output_type": "display_data"
    }
   ],
   "source": [
    "gender_distribution = Final_df['Gender']\n",
    "\n",
    "sns.countplot(x=gender_distribution,edgecolor='black',palette='viridis')\n",
    "plt.title('Distribution of Gender')\n",
    "plt.xlabel('Gender')\n",
    "plt.ylabel('Frequency')\n",
    "plt.show()\n"
   ]
  },
  {
   "cell_type": "markdown",
   "id": "9676ce91",
   "metadata": {},
   "source": [
    "#### Inference:\n",
    "Data shows significant male skewness & 'Unknown' presence, but engagement within identified genders appears balanced."
   ]
  },
  {
   "cell_type": "markdown",
   "id": "83b798e3",
   "metadata": {},
   "source": [
    "### Hour "
   ]
  },
  {
   "cell_type": "code",
   "execution_count": 108,
   "id": "be31f73b",
   "metadata": {},
   "outputs": [
    {
     "data": {
      "image/png": "[encoded data removed]",
      "text/plain": [
       "<Figure size 1500x500 with 1 Axes>"
      ]
     },
     "metadata": {},
     "output_type": "display_data"
    }
   ],
   "source": [
    "plt.figure(figsize=(15, 5))\n",
    "sns.histplot(Final_df['Hour'], bins=20, kde=True)\n",
    "plt.title(f'Distribution of Hour')\n",
    "\n",
    "plt.show()"
   ]
  },
  {
   "cell_type": "markdown",
   "id": "6f63b358",
   "metadata": {},
   "source": [
    "#### Inferences:\n",
    "The distribution of Hour shows that there is a peak in the afternoon.\n",
    "There is also a smaller peak in the evening."
   ]
  },
  {
   "cell_type": "code",
   "execution_count": 109,
   "id": "2fd61da8",
   "metadata": {},
   "outputs": [
    {
     "data": {
      "image/png": "[encoded data removed]",
      "text/plain": [
       "<Figure size 1500x500 with 1 Axes>"
      ]
     },
     "metadata": {},
     "output_type": "display_data"
    }
   ],
   "source": [
    "plt.figure(figsize=(15, 5))\n",
    "plt.boxplot(Final_df['Hour'])\n",
    "plt.title('Boxplot of Hour')\n",
    "\n",
    "plt.show()"
   ]
  },
  {
   "cell_type": "markdown",
   "id": "ea2614d5",
   "metadata": {},
   "source": [
    "#### Inferences:\n",
    "The boxplot suggests two peaks: a larger one in the afternoon and a smaller one in the evening. The distribution is bimodal, symmetric, and includes a few outliers."
   ]
  },
  {
   "cell_type": "markdown",
   "id": "5c646e3d",
   "metadata": {},
   "source": [
    "### Day"
   ]
  },
  {
   "cell_type": "code",
   "execution_count": 110,
   "id": "2fb83fe6",
   "metadata": {},
   "outputs": [
    {
     "data": {
      "image/png": "[encoded data removed]",
      "text/plain": [
       "<Figure size 640x480 with 1 Axes>"
      ]
     },
     "metadata": {},
     "output_type": "display_data"
    }
   ],
   "source": [
    "# Distribution of Tweets by Day\n",
    "plt.subplot(2, 1, 1)\n",
    "sns.countplot(x='Day', data=Final_df, palette='viridis')\n",
    "plt.title('Distribution of Tweets by Day')\n",
    "plt.show()"
   ]
  },
  {
   "cell_type": "markdown",
   "id": "f3b254b7",
   "metadata": {},
   "source": [
    "#### Inference:\n",
    "Tweets peak on Sun-mornings & evenings, hinting at weekend joy & workday neutrality, with potential Sunday language shift."
   ]
  },
  {
   "cell_type": "markdown",
   "id": "1aec5656",
   "metadata": {},
   "source": [
    "### Weekday"
   ]
  },
  {
   "cell_type": "code",
   "execution_count": 111,
   "id": "4e53534c",
   "metadata": {},
   "outputs": [
    {
     "data": {
      "image/png": "[encoded data removed]",
      "text/plain": [
       "<Figure size 640x480 with 1 Axes>"
      ]
     },
     "metadata": {},
     "output_type": "display_data"
    }
   ],
   "source": [
    "weekday_distribution = Final_df['Weekday']\n",
    "\n",
    "sns.countplot(x=weekday_distribution, edgecolor='black',palette='inferno')\n",
    "plt.title('Weekday Distribution')\n",
    "plt.xlabel('Weekday')\n",
    "plt.ylabel('Count')\n",
    "plt.show()\n"
   ]
  },
  {
   "cell_type": "markdown",
   "id": "32980bf3",
   "metadata": {},
   "source": [
    "#### Inference:\n",
    "The distribution of Day shows that there is a slight peak in the number of users on Saturdays and Sundays.\n",
    "This is likely because these are the weekends.\n",
    "There is also a small peak in the number of users on Fridays."
   ]
  },
  {
   "cell_type": "markdown",
   "id": "9cac8d6d",
   "metadata": {},
   "source": [
    "### Klout"
   ]
  },
  {
   "cell_type": "code",
   "execution_count": 112,
   "id": "394851d8",
   "metadata": {},
   "outputs": [
    {
     "data": {
      "image/png": "[encoded data removed]",
      "text/plain": [
       "<Figure size 640x480 with 1 Axes>"
      ]
     },
     "metadata": {},
     "output_type": "display_data"
    }
   ],
   "source": [
    "sns.histplot(Final_df['Klout'], bins=20, kde=True)\n",
    "plt.title('Distribution of Klout')\n",
    "plt.show()"
   ]
  },
  {
   "cell_type": "markdown",
   "id": "c51a1f0f",
   "metadata": {},
   "source": [
    "#### Inferences:\n",
    "  Klout scores are calculated is biased towards people who have a lot of followers and who are very active on social media."
   ]
  },
  {
   "cell_type": "code",
   "execution_count": 113,
   "id": "21573d71",
   "metadata": {},
   "outputs": [
    {
     "data": {
      "image/png": "[encoded data removed]",
      "text/plain": [
       "<Figure size 800x600 with 1 Axes>"
      ]
     },
     "metadata": {},
     "output_type": "display_data"
    }
   ],
   "source": [
    "plt.figure(figsize=(8, 6))\n",
    "plt.boxplot(Final_df['Klout'])\n",
    "plt.title('Box Plot of Klout')\n",
    "plt.xlabel('Klout')\n",
    "plt.show()"
   ]
  },
  {
   "cell_type": "markdown",
   "id": "424a26f4",
   "metadata": {},
   "source": [
    "#### Inferences:\n",
    "Most people have a relatively low Klout score, but there are a few people with very high Klout scores."
   ]
  },
  {
   "cell_type": "markdown",
   "id": "90ee26ae",
   "metadata": {
    "id": "90ee26ae"
   },
   "source": [
    "### Klout Per Country"
   ]
  },
  {
   "cell_type": "code",
   "execution_count": 114,
   "id": "801c36a4",
   "metadata": {},
   "outputs": [
    {
     "data": {
      "text/html": [
       "<div>\n",
       "<style scoped>\n",
       "    .dataframe tbody tr th:only-of-type {\n",
       "        vertical-align: middle;\n",
       "    }\n",
       "\n",
       "    .dataframe tbody tr th {\n",
       "        vertical-align: top;\n",
       "    }\n",
       "\n",
       "    .dataframe thead th {\n",
       "        text-align: right;\n",
       "    }\n",
       "</style>\n",
       "<table border=\"1\" class=\"dataframe\">\n",
       "  <thead>\n",
       "    <tr style=\"text-align: right;\">\n",
       "      <th></th>\n",
       "      <th>Country</th>\n",
       "      <th>Klout</th>\n",
       "    </tr>\n",
       "  </thead>\n",
       "  <tbody>\n",
       "    <tr>\n",
       "      <th>14</th>\n",
       "      <td>Botswana</td>\n",
       "      <td>59.000000</td>\n",
       "    </tr>\n",
       "    <tr>\n",
       "      <th>98</th>\n",
       "      <td>Republic of the Congo</td>\n",
       "      <td>54.000000</td>\n",
       "    </tr>\n",
       "    <tr>\n",
       "      <th>72</th>\n",
       "      <td>Mali</td>\n",
       "      <td>52.500000</td>\n",
       "    </tr>\n",
       "    <tr>\n",
       "      <th>76</th>\n",
       "      <td>Mongolia</td>\n",
       "      <td>49.428571</td>\n",
       "    </tr>\n",
       "    <tr>\n",
       "      <th>28</th>\n",
       "      <td>Cyprus</td>\n",
       "      <td>47.625000</td>\n",
       "    </tr>\n",
       "    <tr>\n",
       "      <th>39</th>\n",
       "      <td>Georgia</td>\n",
       "      <td>46.500000</td>\n",
       "    </tr>\n",
       "    <tr>\n",
       "      <th>50</th>\n",
       "      <td>Iceland</td>\n",
       "      <td>46.071429</td>\n",
       "    </tr>\n",
       "    <tr>\n",
       "      <th>18</th>\n",
       "      <td>Burundi</td>\n",
       "      <td>46.000000</td>\n",
       "    </tr>\n",
       "    <tr>\n",
       "      <th>45</th>\n",
       "      <td>Guinea</td>\n",
       "      <td>45.590909</td>\n",
       "    </tr>\n",
       "    <tr>\n",
       "      <th>115</th>\n",
       "      <td>Syria</td>\n",
       "      <td>45.000000</td>\n",
       "    </tr>\n",
       "    <tr>\n",
       "      <th>17</th>\n",
       "      <td>Burkina Faso</td>\n",
       "      <td>45.000000</td>\n",
       "    </tr>\n",
       "    <tr>\n",
       "      <th>121</th>\n",
       "      <td>Turkey</td>\n",
       "      <td>44.348303</td>\n",
       "    </tr>\n",
       "    <tr>\n",
       "      <th>47</th>\n",
       "      <td>Haiti</td>\n",
       "      <td>44.000000</td>\n",
       "    </tr>\n",
       "    <tr>\n",
       "      <th>68</th>\n",
       "      <td>Macao</td>\n",
       "      <td>44.000000</td>\n",
       "    </tr>\n",
       "    <tr>\n",
       "      <th>70</th>\n",
       "      <td>Malawi</td>\n",
       "      <td>44.000000</td>\n",
       "    </tr>\n",
       "    <tr>\n",
       "      <th>87</th>\n",
       "      <td>Pakistan</td>\n",
       "      <td>43.414062</td>\n",
       "    </tr>\n",
       "    <tr>\n",
       "      <th>40</th>\n",
       "      <td>Germany</td>\n",
       "      <td>43.146810</td>\n",
       "    </tr>\n",
       "    <tr>\n",
       "      <th>7</th>\n",
       "      <td>Bahamas</td>\n",
       "      <td>43.000000</td>\n",
       "    </tr>\n",
       "    <tr>\n",
       "      <th>64</th>\n",
       "      <td>Latvia</td>\n",
       "      <td>42.932203</td>\n",
       "    </tr>\n",
       "    <tr>\n",
       "      <th>10</th>\n",
       "      <td>Belgium</td>\n",
       "      <td>42.465649</td>\n",
       "    </tr>\n",
       "  </tbody>\n",
       "</table>\n",
       "</div>"
      ],
      "text/plain": [
       "                   Country      Klout\n",
       "14                Botswana  59.000000\n",
       "98   Republic of the Congo  54.000000\n",
       "72                    Mali  52.500000\n",
       "76                Mongolia  49.428571\n",
       "28                  Cyprus  47.625000\n",
       "39                 Georgia  46.500000\n",
       "50                 Iceland  46.071429\n",
       "18                 Burundi  46.000000\n",
       "45                  Guinea  45.590909\n",
       "115                  Syria  45.000000\n",
       "17            Burkina Faso  45.000000\n",
       "121                 Turkey  44.348303\n",
       "47                   Haiti  44.000000\n",
       "68                   Macao  44.000000\n",
       "70                  Malawi  44.000000\n",
       "87                Pakistan  43.414062\n",
       "40                 Germany  43.146810\n",
       "7                  Bahamas  43.000000\n",
       "64                  Latvia  42.932203\n",
       "10                 Belgium  42.465649"
      ]
     },
     "execution_count": 114,
     "metadata": {},
     "output_type": "execute_result"
    }
   ],
   "source": [
    "kpc = Final_df.groupby('Country')['Klout'].mean().reset_index()\n",
    "kpc=kpc.sort_values(by='Klout', ascending=False)\n",
    "kpc=kpc.iloc[:20,:]\n",
    "kpc"
   ]
  },
  {
   "cell_type": "code",
   "execution_count": 115,
   "id": "83234686",
   "metadata": {},
   "outputs": [
    {
     "data": {
      "image/png": "[encoded data removed]",
      "text/plain": [
       "<Figure size 640x480 with 1 Axes>"
      ]
     },
     "metadata": {},
     "output_type": "display_data"
    }
   ],
   "source": [
    "plt.plot(kpc['Country'], kpc['Klout'], marker='o')\n",
    "plt.title('Mean of Klout Of a Country')\n",
    "plt.xlabel('Country')\n",
    "plt.ylabel('Klout')\n",
    "plt.xticks(rotation=50)\n",
    "plt.grid(True)\n",
    "plt.show()"
   ]
  },
  {
   "cell_type": "markdown",
   "id": "44b62e83",
   "metadata": {},
   "source": [
    "#### Inferences:\n",
    "A significant portion of highly engaged tweets on Twitter, as measured by Klout scores, originate from African countries,with the notable exception of US."
   ]
  },
  {
   "cell_type": "markdown",
   "id": "d8c9b82d",
   "metadata": {},
   "source": [
    "### Language"
   ]
  },
  {
   "cell_type": "code",
   "execution_count": 116,
   "id": "31f2f913",
   "metadata": {},
   "outputs": [
    {
     "data": {
      "image/png": "[encoded data removed]",
      "text/plain": [
       "<Figure size 640x480 with 1 Axes>"
      ]
     },
     "metadata": {},
     "output_type": "display_data"
    }
   ],
   "source": [
    "lang_counts = Final_df['Lang'].value_counts().reset_index()\n",
    "lang_counts.columns = ['Language', 'Count']\n",
    "\n",
    "plt.plot(lang_counts['Language'], lang_counts['Count'], marker='o')\n",
    "plt.title('Tweet Frequency per Language')\n",
    "plt.xlabel('Language')\n",
    "plt.ylabel('Count')\n",
    "plt.xticks(rotation=45)  \n",
    "plt.grid(True)\n",
    "plt.show()\n"
   ]
  },
  {
   "cell_type": "markdown",
   "id": "ac8d0ccd",
   "metadata": {
    "id": "ac8d0ccd"
   },
   "source": [
    "#### Inference:\n",
    "English reigns, yet a vibrant multilingual mix beckons: consider diverse engagement and non-English outreach."
   ]
  },
  {
   "cell_type": "markdown",
   "id": "094285a7",
   "metadata": {
    "id": "094285a7"
   },
   "source": [
    "## Coorelation Analysis"
   ]
  },
  {
   "cell_type": "code",
   "execution_count": 117,
   "id": "39a43fb8",
   "metadata": {
    "colab": {
     "base_uri": "https://localhost:8080/",
     "height": 703
    },
    "id": "39a43fb8",
    "outputId": "94d6f3c7-7d59-4d21-eb52-bebae3f07199"
   },
   "outputs": [
    {
     "data": {
      "image/png": "[encoded data removed]",
      "text/plain": [
       "<Figure size 1000x800 with 2 Axes>"
      ]
     },
     "metadata": {},
     "output_type": "display_data"
    }
   ],
   "source": [
    "sns.set(style=\"whitegrid\")\n",
    "\n",
    "numerical_features = ['Hour', 'Day', 'Reach', 'RetweetCount', 'Likes', 'Klout']\n",
    "\n",
    "correlation_matrix = Final_df[numerical_features].corr()\n",
    "\n",
    "plt.figure(figsize=(10, 8))\n",
    "sns.heatmap(correlation_matrix, annot=True, cmap='coolwarm', fmt=\".2f\", linewidths=0.5)\n",
    "plt.title('Correlation Matrix for Numerical Features')\n",
    "plt.show()"
   ]
  },
  {
   "cell_type": "code",
   "execution_count": 118,
   "id": "7f6773b2",
   "metadata": {},
   "outputs": [
    {
     "data": {
      "image/png": "[encoded data removed]",
      "text/plain": [
       "<Figure size 640x480 with 1 Axes>"
      ]
     },
     "metadata": {},
     "output_type": "display_data"
    }
   ],
   "source": [
    "Final_df['Mood'] = Final_df['Sentiment'].apply(lambda x: 'Positive' if x > 0 else ('Neutral' if x == 0 else 'Negative'))\n",
    "\n",
    "like_per_mood = Final_df.groupby('Mood')['Likes'].sum().reset_index()\n",
    "\n",
    "sns.barplot(x='Mood', y='Likes', data=like_per_mood, palette='viridis')\n",
    "plt.title('Likes Over Mood')\n",
    "plt.xlabel('Mood')\n",
    "plt.ylabel('Likes')\n",
    "plt.show()"
   ]
  },
  {
   "cell_type": "markdown",
   "id": "8a413f82",
   "metadata": {},
   "source": [
    "## Inference:\n",
    "    Tweets with a neutral mood received more likes than negative tweets but less than positive tweets. This suggests that people are somewhat interested in neutral content, but it doesn't evoke the same strong emotions as positive or negative content."
   ]
  },
  {
   "cell_type": "markdown",
   "id": "e933d0a2",
   "metadata": {},
   "source": [
    "#### Let's build a classification model by classifying our tweets in these three categories, namely:\n",
    "## -Negative\n",
    "## -Neutral\n",
    "## -Positive"
   ]
  },
  {
   "cell_type": "markdown",
   "id": "84417dee",
   "metadata": {
    "id": "84417dee"
   },
   "source": [
    "## Model Building:\n"
   ]
  },
  {
   "cell_type": "markdown",
   "id": "04e2b67e",
   "metadata": {
    "id": "04e2b67e"
   },
   "source": [
    "#### Filter out non-English languages from the dataset."
   ]
  },
  {
   "cell_type": "code",
   "execution_count": 119,
   "id": "d669e2e1",
   "metadata": {
    "id": "d669e2e1"
   },
   "outputs": [],
   "source": [
    "Final_df = Final_df[Final_df['Lang']=='en']"
   ]
  },
  {
   "cell_type": "markdown",
   "id": "2b86ddbf",
   "metadata": {
    "id": "2b86ddbf"
   },
   "source": [
    "#### Text processing"
   ]
  },
  {
   "cell_type": "code",
   "execution_count": 120,
   "id": "ead8e5b1",
   "metadata": {
    "id": "ead8e5b1"
   },
   "outputs": [],
   "source": [
    "Final_df['text']=Final_df['text'].astype(str)\n",
    "Final_df['text']=Final_df['text'].apply(lambda x:x.lower())"
   ]
  },
  {
   "cell_type": "markdown",
   "id": "a561fbeb",
   "metadata": {
    "id": "a561fbeb"
   },
   "source": [
    "#### Removing the stop words [LIMIT-5000Characters]"
   ]
  },
  {
   "cell_type": "code",
   "execution_count": 121,
   "id": "704ed983",
   "metadata": {
    "id": "704ed983"
   },
   "outputs": [],
   "source": [
    "from sklearn.feature_extraction.text import CountVectorizer\n",
    "\n",
    "cv=CountVectorizer(max_features=5000,stop_words='english')"
   ]
  },
  {
   "cell_type": "code",
   "execution_count": 122,
   "id": "e15a8759",
   "metadata": {
    "id": "e15a8759"
   },
   "outputs": [],
   "source": [
    "vectors= cv.fit_transform(Final_df['text']).toarray()"
   ]
  },
  {
   "cell_type": "code",
   "execution_count": 123,
   "id": "e481f779",
   "metadata": {
    "colab": {
     "base_uri": "https://localhost:8080/"
    },
    "id": "e481f779",
    "outputId": "0fadf041-6d8e-4b7e-89ff-dc048e126eeb"
   },
   "outputs": [
    {
     "data": {
      "text/plain": [
       "array([[0, 0, 0, ..., 0, 0, 0],\n",
       "       [0, 0, 0, ..., 0, 0, 0],\n",
       "       [0, 0, 0, ..., 0, 0, 0],\n",
       "       ...,\n",
       "       [0, 0, 0, ..., 0, 0, 0],\n",
       "       [0, 0, 0, ..., 0, 0, 0],\n",
       "       [0, 0, 0, ..., 0, 0, 0]], dtype=int64)"
      ]
     },
     "execution_count": 123,
     "metadata": {},
     "output_type": "execute_result"
    }
   ],
   "source": [
    "vectors"
   ]
  },
  {
   "cell_type": "code",
   "execution_count": 124,
   "id": "KGpFqo81Hhkh",
   "metadata": {
    "id": "KGpFqo81Hhkh"
   },
   "outputs": [],
   "source": [
    "from sklearn.model_selection import train_test_split\n",
    "from sklearn.feature_extraction.text import TfidfVectorizer\n",
    "from sklearn.preprocessing import LabelEncoder\n",
    "from sklearn.pipeline import Pipeline\n",
    "from sklearn.naive_bayes import MultinomialNB\n",
    "from sklearn.ensemble import RandomForestClassifier\n",
    "from sklearn.metrics import accuracy_score, classification_report"
   ]
  },
  {
   "cell_type": "markdown",
   "id": "88ab8eac",
   "metadata": {
    "id": "88ab8eac"
   },
   "source": [
    "### Substituting stem"
   ]
  },
  {
   "cell_type": "code",
   "execution_count": 125,
   "id": "1579f576",
   "metadata": {
    "id": "1579f576"
   },
   "outputs": [],
   "source": [
    "import nltk\n",
    "from nltk.stem.porter import *\n",
    "ps=PorterStemmer()"
   ]
  },
  {
   "cell_type": "code",
   "execution_count": 126,
   "id": "fb3132b6",
   "metadata": {
    "id": "fb3132b6"
   },
   "outputs": [],
   "source": [
    "def stem(text):\n",
    "  y=[]\n",
    "  for i in text.split():\n",
    "    y.append(ps.stem(i))\n",
    "  return \" \".join(y)"
   ]
  },
  {
   "cell_type": "code",
   "execution_count": 127,
   "id": "601df0a9",
   "metadata": {
    "id": "601df0a9"
   },
   "outputs": [],
   "source": [
    "Final_df['text']= Final_df['text'].apply(stem)"
   ]
  },
  {
   "cell_type": "code",
   "execution_count": 144,
   "id": "ea86868d",
   "metadata": {
    "colab": {
     "base_uri": "https://localhost:8080/",
     "height": 894
    },
    "id": "ea86868d",
    "outputId": "bcf98914-ab4d-4ee2-e2df-bad5f7dee4c5"
   },
   "outputs": [
    {
     "data": {
      "text/html": [
       "<div>\n",
       "<style scoped>\n",
       "    .dataframe tbody tr th:only-of-type {\n",
       "        vertical-align: middle;\n",
       "    }\n",
       "\n",
       "    .dataframe tbody tr th {\n",
       "        vertical-align: top;\n",
       "    }\n",
       "\n",
       "    .dataframe thead th {\n",
       "        text-align: right;\n",
       "    }\n",
       "</style>\n",
       "<table border=\"1\" class=\"dataframe\">\n",
       "  <thead>\n",
       "    <tr style=\"text-align: right;\">\n",
       "      <th></th>\n",
       "      <th>UserID</th>\n",
       "      <th>Gender</th>\n",
       "      <th>LocationID</th>\n",
       "      <th>City</th>\n",
       "      <th>State</th>\n",
       "      <th>StateCode</th>\n",
       "      <th>Country</th>\n",
       "      <th>TweetID</th>\n",
       "      <th>Hour</th>\n",
       "      <th>Day</th>\n",
       "      <th>...</th>\n",
       "      <th>IsReshare</th>\n",
       "      <th>Reach</th>\n",
       "      <th>RetweetCount</th>\n",
       "      <th>Likes</th>\n",
       "      <th>Klout</th>\n",
       "      <th>Sentiment</th>\n",
       "      <th>Lang</th>\n",
       "      <th>text</th>\n",
       "      <th>Mood</th>\n",
       "      <th>Label</th>\n",
       "    </tr>\n",
       "  </thead>\n",
       "  <tbody>\n",
       "    <tr>\n",
       "      <th>0</th>\n",
       "      <td>tw-1267804344</td>\n",
       "      <td>Unknown</td>\n",
       "      <td>1</td>\n",
       "      <td>Elbasan</td>\n",
       "      <td>Elbasan</td>\n",
       "      <td>AL</td>\n",
       "      <td>Albania</td>\n",
       "      <td>tw-698155297102295041</td>\n",
       "      <td>7</td>\n",
       "      <td>12</td>\n",
       "      <td>...</td>\n",
       "      <td>True</td>\n",
       "      <td>339</td>\n",
       "      <td>127</td>\n",
       "      <td>0</td>\n",
       "      <td>44</td>\n",
       "      <td>0.0</td>\n",
       "      <td>en</td>\n",
       "      <td>\"rt @adrianrusso82: our innov lab is offici op...</td>\n",
       "      <td>Neutral</td>\n",
       "      <td>1</td>\n",
       "    </tr>\n",
       "    <tr>\n",
       "      <th>1</th>\n",
       "      <td>tw-4762500137</td>\n",
       "      <td>Female</td>\n",
       "      <td>10</td>\n",
       "      <td>Luanda</td>\n",
       "      <td>Luanda</td>\n",
       "      <td>AO</td>\n",
       "      <td>Angola</td>\n",
       "      <td>tw-690506796876824576</td>\n",
       "      <td>5</td>\n",
       "      <td>22</td>\n",
       "      <td>...</td>\n",
       "      <td>True</td>\n",
       "      <td>63</td>\n",
       "      <td>26</td>\n",
       "      <td>0</td>\n",
       "      <td>16</td>\n",
       "      <td>-2.0</td>\n",
       "      <td>en</td>\n",
       "      <td>rt @imoyse: microsoft slash azur price up to 1...</td>\n",
       "      <td>Negative</td>\n",
       "      <td>0</td>\n",
       "    </tr>\n",
       "    <tr>\n",
       "      <th>2</th>\n",
       "      <td>tw-4762500137</td>\n",
       "      <td>Female</td>\n",
       "      <td>10</td>\n",
       "      <td>Luanda</td>\n",
       "      <td>Luanda</td>\n",
       "      <td>AO</td>\n",
       "      <td>Angola</td>\n",
       "      <td>tw-698315842434555904</td>\n",
       "      <td>18</td>\n",
       "      <td>12</td>\n",
       "      <td>...</td>\n",
       "      <td>True</td>\n",
       "      <td>107</td>\n",
       "      <td>25</td>\n",
       "      <td>0</td>\n",
       "      <td>31</td>\n",
       "      <td>-2.0</td>\n",
       "      <td>en</td>\n",
       "      <td>rt @imoyse: hous of clouds: netflix abandon it...</td>\n",
       "      <td>Negative</td>\n",
       "      <td>0</td>\n",
       "    </tr>\n",
       "    <tr>\n",
       "      <th>12</th>\n",
       "      <td>tw-40031027</td>\n",
       "      <td>Unknown</td>\n",
       "      <td>14</td>\n",
       "      <td>Buenos Aires</td>\n",
       "      <td>Buenos Aires F.D.</td>\n",
       "      <td>AR</td>\n",
       "      <td>Argentina</td>\n",
       "      <td>tw-688021501577146369</td>\n",
       "      <td>8</td>\n",
       "      <td>15</td>\n",
       "      <td>...</td>\n",
       "      <td>False</td>\n",
       "      <td>177</td>\n",
       "      <td>0</td>\n",
       "      <td>0</td>\n",
       "      <td>33</td>\n",
       "      <td>0.0</td>\n",
       "      <td>en</td>\n",
       "      <td>@awscloud hey! when is ef go to becom availabl...</td>\n",
       "      <td>Neutral</td>\n",
       "      <td>1</td>\n",
       "    </tr>\n",
       "    <tr>\n",
       "      <th>13</th>\n",
       "      <td>tw-40031027</td>\n",
       "      <td>Unknown</td>\n",
       "      <td>14</td>\n",
       "      <td>Buenos Aires</td>\n",
       "      <td>Buenos Aires F.D.</td>\n",
       "      <td>AR</td>\n",
       "      <td>Argentina</td>\n",
       "      <td>tw-703289433685102593</td>\n",
       "      <td>11</td>\n",
       "      <td>26</td>\n",
       "      <td>...</td>\n",
       "      <td>True</td>\n",
       "      <td>210</td>\n",
       "      <td>28</td>\n",
       "      <td>0</td>\n",
       "      <td>34</td>\n",
       "      <td>0.0</td>\n",
       "      <td>en</td>\n",
       "      <td>rt @jeffbarr: how tokyu hand architect a cost-...</td>\n",
       "      <td>Neutral</td>\n",
       "      <td>1</td>\n",
       "    </tr>\n",
       "  </tbody>\n",
       "</table>\n",
       "<p>5 rows × 21 columns</p>\n",
       "</div>"
      ],
      "text/plain": [
       "           UserID   Gender  LocationID          City              State  \\\n",
       "0   tw-1267804344  Unknown           1       Elbasan            Elbasan   \n",
       "1   tw-4762500137   Female          10        Luanda             Luanda   \n",
       "2   tw-4762500137   Female          10        Luanda             Luanda   \n",
       "12    tw-40031027  Unknown          14  Buenos Aires  Buenos Aires F.D.   \n",
       "13    tw-40031027  Unknown          14  Buenos Aires  Buenos Aires F.D.   \n",
       "\n",
       "   StateCode    Country                TweetID  Hour  Day  ... IsReshare  \\\n",
       "0         AL    Albania  tw-698155297102295041     7   12  ...      True   \n",
       "1         AO     Angola  tw-690506796876824576     5   22  ...      True   \n",
       "2         AO     Angola  tw-698315842434555904    18   12  ...      True   \n",
       "12        AR  Argentina  tw-688021501577146369     8   15  ...     False   \n",
       "13        AR  Argentina  tw-703289433685102593    11   26  ...      True   \n",
       "\n",
       "    Reach  RetweetCount  Likes  Klout  Sentiment  Lang  \\\n",
       "0     339           127      0     44        0.0    en   \n",
       "1      63            26      0     16       -2.0    en   \n",
       "2     107            25      0     31       -2.0    en   \n",
       "12    177             0      0     33        0.0    en   \n",
       "13    210            28      0     34        0.0    en   \n",
       "\n",
       "                                                 text      Mood Label  \n",
       "0   \"rt @adrianrusso82: our innov lab is offici op...   Neutral     1  \n",
       "1   rt @imoyse: microsoft slash azur price up to 1...  Negative     0  \n",
       "2   rt @imoyse: hous of clouds: netflix abandon it...  Negative     0  \n",
       "12  @awscloud hey! when is ef go to becom availabl...   Neutral     1  \n",
       "13  rt @jeffbarr: how tokyu hand architect a cost-...   Neutral     1  \n",
       "\n",
       "[5 rows x 21 columns]"
      ]
     },
     "execution_count": 144,
     "metadata": {},
     "output_type": "execute_result"
    }
   ],
   "source": [
    "Final_df.head()"
   ]
  },
  {
   "cell_type": "code",
   "execution_count": 129,
   "id": "2a941306",
   "metadata": {
    "id": "2a941306"
   },
   "outputs": [],
   "source": [
    "from sklearn.preprocessing import LabelEncoder\n",
    "le_model = LabelEncoder()\n",
    "Final_df['Label'] = le_model.fit_transform(Final_df['Mood'])"
   ]
  },
  {
   "cell_type": "markdown",
   "id": "68502846",
   "metadata": {
    "id": "68502846"
   },
   "source": [
    "## Training model:"
   ]
  },
  {
   "cell_type": "markdown",
   "id": "bb7e1a10",
   "metadata": {
    "id": "bb7e1a10"
   },
   "source": [
    "#### Splitting the dataset into testing and training sets:"
   ]
  },
  {
   "cell_type": "code",
   "execution_count": 130,
   "id": "0d20c63c",
   "metadata": {
    "id": "0d20c63c"
   },
   "outputs": [],
   "source": [
    "from sklearn.model_selection import train_test_split\n",
    "X_train, X_test, y_train, y_test = train_test_split(Final_df['text'], Final_df['Label'],\n",
    "                                                    test_size=0.2, random_state=42, stratify=Final_df['Label'])"
   ]
  },
  {
   "cell_type": "code",
   "execution_count": 131,
   "id": "1b54e982",
   "metadata": {
    "colab": {
     "base_uri": "https://localhost:8080/"
    },
    "id": "1b54e982",
    "outputId": "a913a113-30a7-4dc8-bc7d-163d3a67b8dc"
   },
   "outputs": [
    {
     "name": "stdout",
     "output_type": "stream",
     "text": [
      "Shape of X_train:  (73509,)\n",
      "Shape of X_test:  (18378,)\n"
     ]
    }
   ],
   "source": [
    "print(\"Shape of X_train: \", X_train.shape)\n",
    "print(\"Shape of X_test: \", X_test.shape)"
   ]
  },
  {
   "cell_type": "markdown",
   "id": "6db5456b",
   "metadata": {
    "id": "6db5456b"
   },
   "source": [
    "## Model Training"
   ]
  },
  {
   "cell_type": "code",
   "execution_count": 132,
   "id": "5098ad0e",
   "metadata": {
    "id": "5098ad0e"
   },
   "outputs": [],
   "source": [
    "clf = Pipeline([\n",
    "    ('vectorizer_tri_grams', TfidfVectorizer()),\n",
    "    ('random_forest', (RandomForestClassifier()))\n",
    "])"
   ]
  },
  {
   "cell_type": "code",
   "execution_count": 133,
   "id": "dee0d2bb",
   "metadata": {
    "colab": {
     "base_uri": "https://localhost:8080/",
     "height": 125
    },
    "id": "dee0d2bb",
    "outputId": "ce0bf2c6-dc82-4e5f-baef-e41a39207474"
   },
   "outputs": [
    {
     "data": {
      "text/html": [
       "<style>#sk-container-id-3 {color: black;}#sk-container-id-3 pre{padding: 0;}#sk-container-id-3 div.sk-toggleable {background-color: white;}#sk-container-id-3 label.sk-toggleable__label {cursor: pointer;display: block;width: 100%;margin-bottom: 0;padding: 0.3em;box-sizing: border-box;text-align: center;}#sk-container-id-3 label.sk-toggleable__label-arrow:before {content: \"▸\";float: left;margin-right: 0.25em;color: #696969;}#sk-container-id-3 label.sk-toggleable__label-arrow:hover:before {color: black;}#sk-container-id-3 div.sk-estimator:hover label.sk-toggleable__label-arrow:before {color: black;}#sk-container-id-3 div.sk-toggleable__content {max-height: 0;max-width: 0;overflow: hidden;text-align: left;background-color: #f0f8ff;}#sk-container-id-3 div.sk-toggleable__content pre {margin: 0.2em;color: black;border-radius: 0.25em;background-color: #f0f8ff;}#sk-container-id-3 input.sk-toggleable__control:checked~div.sk-toggleable__content {max-height: 200px;max-width: 100%;overflow: auto;}#sk-container-id-3 input.sk-toggleable__control:checked~label.sk-toggleable__label-arrow:before {content: \"▾\";}#sk-container-id-3 div.sk-estimator input.sk-toggleable__control:checked~label.sk-toggleable__label {background-color: #d4ebff;}#sk-container-id-3 div.sk-label input.sk-toggleable__control:checked~label.sk-toggleable__label {background-color: #d4ebff;}#sk-container-id-3 input.sk-hidden--visually {border: 0;clip: rect(1px 1px 1px 1px);clip: rect(1px, 1px, 1px, 1px);height: 1px;margin: -1px;overflow: hidden;padding: 0;position: absolute;width: 1px;}#sk-container-id-3 div.sk-estimator {font-family: monospace;background-color: #f0f8ff;border: 1px dotted black;border-radius: 0.25em;box-sizing: border-box;margin-bottom: 0.5em;}#sk-container-id-3 div.sk-estimator:hover {background-color: #d4ebff;}#sk-container-id-3 div.sk-parallel-item::after {content: \"\";width: 100%;border-bottom: 1px solid gray;flex-grow: 1;}#sk-container-id-3 div.sk-label:hover label.sk-toggleable__label {background-color: #d4ebff;}#sk-container-id-3 div.sk-serial::before {content: \"\";position: absolute;border-left: 1px solid gray;box-sizing: border-box;top: 0;bottom: 0;left: 50%;z-index: 0;}#sk-container-id-3 div.sk-serial {display: flex;flex-direction: column;align-items: center;background-color: white;padding-right: 0.2em;padding-left: 0.2em;position: relative;}#sk-container-id-3 div.sk-item {position: relative;z-index: 1;}#sk-container-id-3 div.sk-parallel {display: flex;align-items: stretch;justify-content: center;background-color: white;position: relative;}#sk-container-id-3 div.sk-item::before, #sk-container-id-3 div.sk-parallel-item::before {content: \"\";position: absolute;border-left: 1px solid gray;box-sizing: border-box;top: 0;bottom: 0;left: 50%;z-index: -1;}#sk-container-id-3 div.sk-parallel-item {display: flex;flex-direction: column;z-index: 1;position: relative;background-color: white;}#sk-container-id-3 div.sk-parallel-item:first-child::after {align-self: flex-end;width: 50%;}#sk-container-id-3 div.sk-parallel-item:last-child::after {align-self: flex-start;width: 50%;}#sk-container-id-3 div.sk-parallel-item:only-child::after {width: 0;}#sk-container-id-3 div.sk-dashed-wrapped {border: 1px dashed gray;margin: 0 0.4em 0.5em 0.4em;box-sizing: border-box;padding-bottom: 0.4em;background-color: white;}#sk-container-id-3 div.sk-label label {font-family: monospace;font-weight: bold;display: inline-block;line-height: 1.2em;}#sk-container-id-3 div.sk-label-container {text-align: center;}#sk-container-id-3 div.sk-container {/* jupyter's `normalize.less` sets `[hidden] { display: none; }` but bootstrap.min.css set `[hidden] { display: none !important; }` so we also need the `!important` here to be able to override the default hidden behavior on the sphinx rendered scikit-learn.org. See: https://github.com/scikit-learn/scikit-learn/issues/21755 */display: inline-block !important;position: relative;}#sk-container-id-3 div.sk-text-repr-fallback {display: none;}</style><div id=\"sk-container-id-3\" class=\"sk-top-container\"><div class=\"sk-text-repr-fallback\"><pre>Pipeline(steps=[(&#x27;vectorizer_tri_grams&#x27;, TfidfVectorizer()),\n",
       "                (&#x27;random_forest&#x27;, RandomForestClassifier())])</pre><b>In a Jupyter environment, please rerun this cell to show the HTML representation or trust the notebook. <br />On GitHub, the HTML representation is unable to render, please try loading this page with nbviewer.org.</b></div><div class=\"sk-container\" hidden><div class=\"sk-item sk-dashed-wrapped\"><div class=\"sk-label-container\"><div class=\"sk-label sk-toggleable\"><input class=\"sk-toggleable__control sk-hidden--visually\" id=\"sk-estimator-id-7\" type=\"checkbox\" ><label for=\"sk-estimator-id-7\" class=\"sk-toggleable__label sk-toggleable__label-arrow\">Pipeline</label><div class=\"sk-toggleable__content\"><pre>Pipeline(steps=[(&#x27;vectorizer_tri_grams&#x27;, TfidfVectorizer()),\n",
       "                (&#x27;random_forest&#x27;, RandomForestClassifier())])</pre></div></div></div><div class=\"sk-serial\"><div class=\"sk-item\"><div class=\"sk-estimator sk-toggleable\"><input class=\"sk-toggleable__control sk-hidden--visually\" id=\"sk-estimator-id-8\" type=\"checkbox\" ><label for=\"sk-estimator-id-8\" class=\"sk-toggleable__label sk-toggleable__label-arrow\">TfidfVectorizer</label><div class=\"sk-toggleable__content\"><pre>TfidfVectorizer()</pre></div></div></div><div class=\"sk-item\"><div class=\"sk-estimator sk-toggleable\"><input class=\"sk-toggleable__control sk-hidden--visually\" id=\"sk-estimator-id-9\" type=\"checkbox\" ><label for=\"sk-estimator-id-9\" class=\"sk-toggleable__label sk-toggleable__label-arrow\">RandomForestClassifier</label><div class=\"sk-toggleable__content\"><pre>RandomForestClassifier()</pre></div></div></div></div></div></div></div>"
      ],
      "text/plain": [
       "Pipeline(steps=[('vectorizer_tri_grams', TfidfVectorizer()),\n",
       "                ('random_forest', RandomForestClassifier())])"
      ]
     },
     "execution_count": 133,
     "metadata": {},
     "output_type": "execute_result"
    }
   ],
   "source": [
    "\n",
    "clf.fit(X_train, y_train)"
   ]
  },
  {
   "cell_type": "markdown",
   "id": "11bf3e40",
   "metadata": {
    "id": "11bf3e40"
   },
   "source": [
    " The prevalence of neutral sentiment tweets far surpasses the relatively low count of negative tweets, making a meaningful comparison between the two challenging."
   ]
  },
  {
   "cell_type": "markdown",
   "id": "0f657ab3",
   "metadata": {
    "id": "0f657ab3"
   },
   "source": [
    "## Evaluation of the Model"
   ]
  },
  {
   "cell_type": "code",
   "execution_count": 134,
   "id": "4940cd2e",
   "metadata": {
    "id": "4940cd2e"
   },
   "outputs": [],
   "source": [
    "\n",
    "from sklearn.metrics import accuracy_score, classification_report"
   ]
  },
  {
   "cell_type": "code",
   "execution_count": 135,
   "id": "8021e506",
   "metadata": {
    "id": "8021e506"
   },
   "outputs": [],
   "source": [
    "# Get the predictions for X_test and store it in y_pred\n",
    "y_pred = clf.predict(X_test)"
   ]
  },
  {
   "cell_type": "code",
   "execution_count": 136,
   "id": "eec919f8",
   "metadata": {
    "colab": {
     "base_uri": "https://localhost:8080/"
    },
    "id": "eec919f8",
    "outputId": "35ef9c1f-6897-4113-bf1f-5b02596dbf53"
   },
   "outputs": [
    {
     "name": "stdout",
     "output_type": "stream",
     "text": [
      "0.9123408423114594\n"
     ]
    }
   ],
   "source": [
    "print(accuracy_score(y_test, y_pred))"
   ]
  },
  {
   "cell_type": "code",
   "execution_count": 137,
   "id": "9e70b560",
   "metadata": {
    "colab": {
     "base_uri": "https://localhost:8080/"
    },
    "id": "9e70b560",
    "outputId": "c8e62d43-e170-47b9-97df-2973455d9294"
   },
   "outputs": [
    {
     "name": "stdout",
     "output_type": "stream",
     "text": [
      "              precision    recall  f1-score   support\n",
      "\n",
      "           0       0.98      0.52      0.68      1014\n",
      "           1       0.89      0.99      0.94     12286\n",
      "           2       0.96      0.80      0.87      5078\n",
      "\n",
      "    accuracy                           0.91     18378\n",
      "   macro avg       0.94      0.77      0.83     18378\n",
      "weighted avg       0.92      0.91      0.91     18378\n",
      "\n"
     ]
    }
   ],
   "source": [
    "# Print classification report\n",
    "print(classification_report(y_test, y_pred))"
   ]
  },
  {
   "cell_type": "markdown",
   "id": "971ae567",
   "metadata": {
    "id": "971ae567"
   },
   "source": [
    "## Testing our model:"
   ]
  },
  {
   "cell_type": "code",
   "execution_count": 138,
   "id": "59146689",
   "metadata": {
    "id": "59146689"
   },
   "outputs": [],
   "source": [
    "test_df=Final_df.iloc[:50000, :]"
   ]
  },
  {
   "cell_type": "code",
   "execution_count": 139,
   "id": "fdae1e89",
   "metadata": {
    "id": "fdae1e89"
   },
   "outputs": [],
   "source": [
    "test=Final_df['text'][1000]"
   ]
  },
  {
   "cell_type": "code",
   "execution_count": 140,
   "id": "a3719ea9",
   "metadata": {
    "colab": {
     "base_uri": "https://localhost:8080/"
    },
    "id": "a3719ea9",
    "outputId": "10f020be-df40-4c73-993e-993d3042f398"
   },
   "outputs": [
    {
     "name": "stdout",
     "output_type": "stream",
     "text": [
      "rt @awscloud: new the aw #bigdata blog: turn emr into a massiv s3 process engin with campanil https://blogs.aws.amazon.com/bigdata/post/tx1xu0oqazer3mi/turning-amazon-emr-into-a-massive-amazon-s3-processing-engine-with-campanile?adbsc=social_blogs_20160129_57773736&adbid=693195696921403394&adbpl=tw&adbpr=66780587 https:// ===> 1\n"
     ]
    }
   ],
   "source": [
    "test_text = test_df['text'][1000]\n",
    "print(f\"{test} ===> {test_df['Label'][1000]}\")"
   ]
  },
  {
   "cell_type": "code",
   "execution_count": 141,
   "id": "aeb878ce",
   "metadata": {
    "id": "aeb878ce"
   },
   "outputs": [],
   "source": [
    "test = clf.predict([test_text])"
   ]
  },
  {
   "cell_type": "code",
   "execution_count": 142,
   "id": "607efc87",
   "metadata": {
    "colab": {
     "base_uri": "https://localhost:8080/"
    },
    "id": "607efc87",
    "outputId": "4b00f417-217b-4644-f7b3-7c678dc0da38"
   },
   "outputs": [
    {
     "name": "stdout",
     "output_type": "stream",
     "text": [
      "True Label: Neutral\n",
      "Predict Label: Neutral\n"
     ]
    }
   ],
   "source": [
    "classes = ['Negative', 'Neutral', 'Positive']\n",
    "\n",
    "print(f\"True Label: {test_df['Mood'][1000]}\")\n",
    "print(f'Predict Label: {classes[test[0]]}')"
   ]
  },
  {
   "cell_type": "markdown",
   "id": "a93a9355",
   "metadata": {
    "id": "a93a9355"
   },
   "source": [
    "### Conclusion:\n",
    "    We have analysed the sentiment of the tweet with the accuracy :\n",
    "    91% ."
   ]
  }
 ],
 "metadata": {
  "colab": {
   "provenance": []
  },
  "kernelspec": {
   "display_name": "Python 3 (ipykernel)",
   "language": "python",
   "name": "python3"
  },
  "language_info": {
   "codemirror_mode": {
    "name": "ipython",
    "version": 3
   },
   "file_extension": ".py",
   "mimetype": "text/x-python",
   "name": "python",
   "nbconvert_exporter": "python",
   "pygments_lexer": "ipython3",
   "version": "3.11.5"
  }
 },
 "nbformat": 4,
 "nbformat_minor": 5
}
